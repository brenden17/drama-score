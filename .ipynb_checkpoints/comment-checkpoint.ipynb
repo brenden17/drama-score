{
 "metadata": {
  "name": "",
  "signature": "sha256:867c0bfa6a7a71179dc31853a5e599a3bd36e9016f1d0db810fdeebbb60d8221"
 },
 "nbformat": 3,
 "nbformat_minor": 0,
 "worksheets": [
  {
   "cells": [
    {
     "cell_type": "code",
     "collapsed": false,
     "input": [
      "import pandas as pd\n",
      "\n",
      "def get_comment_by_user(filename, username):\n",
      "    comments = pd.read_csv(filename)\n",
      "    # comments['date'] = comments['date'].apply(lambda d: datetime.datetime.strptime(d, '%Y-%m-%d').date())\n",
      "    comments['date'] = pd.to_datetime(comments['date'])\n",
      "    score_comments = comments[['date', 'score']].sort(['date'])\n",
      "    comments[comments['user']==username]\n",
      "    print(score_comments.describe())\n",
      "\n",
      "get_comment_by_user('web/inheritant.csv', '\uc724\uc720\uc9c4')\n",
      "get_comment_by_user('web/allrightlove.csv', '\uc724\uc720\uc9c4')\n",
      "get_comment_by_user('web/knifeflower.csv', '\uc724\uc720\uc9c4')\n",
      "\n"
     ],
     "language": "python",
     "metadata": {},
     "outputs": [
      {
       "output_type": "stream",
       "stream": "stdout",
       "text": [
        "              score\n",
        "count  10440.000000\n",
        "mean       9.466092\n",
        "std        1.990349\n",
        "min        0.000000\n",
        "25%       10.000000\n",
        "50%       10.000000\n",
        "75%       10.000000\n",
        "max       10.000000\n",
        "\n",
        "[8 rows x 1 columns]\n"
       ]
      }
     ],
     "prompt_number": 6
    }
   ],
   "metadata": {}
  }
 ]
}