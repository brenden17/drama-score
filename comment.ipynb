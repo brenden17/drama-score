{
 "metadata": {
  "name": "",
  "signature": "sha256:786e22ae0c76194043c09dbdd2e66eb9e10ba3e15ab6145fdc2b9d1321c8acf4"
 },
 "nbformat": 3,
 "nbformat_minor": 0,
 "worksheets": [
  {
   "cells": [
    {
     "cell_type": "code",
     "collapsed": false,
     "input": [
      "import pandas as pd\n",
      "\n",
      "def get_comment_by_user(filename, username):\n",
      "    comments = pd.read_csv(filename)\n",
      "    # comments['date'] = comments['date'].apply(lambda d: datetime.datetime.strptime(d, '%Y-%m-%d').date())\n",
      "    comments['date'] = pd.to_datetime(comments['date'])\n",
      "    score_comments = comments[['date', 'score']].sort(['date'])\n",
      "    comments[comments['user']==username]\n",
      "    print(score_comments.describe())\n",
      "\n",
      "get_comment_by_user('web/inheritant.csv', '\uc724\uc720\uc9c4')\n",
      "get_comment_by_user('web/allrightlove.csv', '\uc724\uc720\uc9c4')\n",
      "get_comment_by_user('web/knifeflower.csv', '\uc724\uc720\uc9c4')\n",
      "\n"
     ],
     "language": "python",
     "metadata": {},
     "outputs": [
      {
       "output_type": "stream",
       "stream": "stdout",
       "text": [
        "              score\n",
        "count  10440.000000\n",
        "mean       9.466092\n",
        "std        1.990349\n",
        "min        0.000000\n",
        "25%       10.000000\n",
        "50%       10.000000\n",
        "75%       10.000000\n",
        "max       10.000000\n",
        "\n",
        "[8 rows x 1 columns]\n",
        "             score\n",
        "count  1000.000000\n",
        "mean      8.414000\n",
        "std       3.164272\n",
        "min       0.000000\n",
        "25%       9.000000\n",
        "50%      10.000000\n",
        "75%      10.000000\n",
        "max      10.000000\n",
        "\n",
        "[8 rows x 1 columns]\n",
        "            score\n",
        "count  480.000000\n",
        "mean     6.020833\n",
        "std      4.057466\n",
        "min      0.000000\n",
        "25%      1.000000\n",
        "50%      8.000000\n",
        "75%     10.000000\n",
        "max     10.000000\n",
        "\n",
        "[8 rows x 1 columns]\n"
       ]
      }
     ],
     "prompt_number": 7
    }
   ],
   "metadata": {}
  }
 ]
}