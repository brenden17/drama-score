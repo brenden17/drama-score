{
 "metadata": {
  "name": "",
  "signature": "sha256:d14bb47b93f9bbe0a5dfa4746806b2f253379cd5232968c266245b4cf65efcc1"
 },
 "nbformat": 3,
 "nbformat_minor": 0,
 "worksheets": [
  {
   "cells": [
    {
     "cell_type": "code",
     "collapsed": false,
     "input": [],
     "language": "python",
     "metadata": {},
     "outputs": []
    },
    {
     "cell_type": "code",
     "collapsed": false,
     "input": [
      "import pandas as pd\n",
      "\n",
      "comments = pd.read_csv('jung/jung.csv')\n",
      "# comments['date'] = comments['date'].apply(lambda d: datetime.datetime.strptime(d, '%Y-%m-%d').date())\n",
      "comments['date'] = pd.to_datetime(comments['date'])\n",
      "score_comments = comments[['date', 'score']].sort(['date'])\n",
      "# print(score_comments)\n",
      "\n",
      "score_comments = score_comments.set_index('date')\n",
      "gs = score_comments.groupby(lambda x:x.week)\n",
      "# print(gs.head())\n",
      "summary_comment = pd.concat([gs.std(), gs.mean(), gs.count()],axis=1, keys=['std', 'mean', 'count'])\n",
      "# gs.mean().plot()\n",
      "# gs.std().plot()\n"
     ],
     "language": "python",
     "metadata": {},
     "outputs": []
    },
    {
     "cell_type": "code",
     "collapsed": false,
     "input": [
      "import pandas as pd\n",
      "search_result = pd.read_csv('jung/jung_search.csv')\n",
      "# print(df.head())\n",
      "search_result['date'] = pd.to_datetime(search_result['date'])\n",
      "\n",
      "search_result = search_result.set_index('date')\n",
      "search_result = search_result.groupby(lambda x:x.week)\n",
      "search_result = search_result.count()\n",
      "print(type(search_result))\n",
      "# dramaid = 63553\n",
      "# ratings = df[df['dramaid']==dramaid].sort(['date'])[['date','ratings']]\n",
      "# ratings = ratings.set_index('date')\n",
      "# ratings = ratings.groupby(lambda x:x.week)\n",
      "# ratings = ratings.aggregate(np.sum)\n",
      "\n",
      "# # ratings.join(summary_comment, how='outer')\n",
      "# ratings = ratings.join(summary_comment)\n",
      "# print(ratings.corr())\n",
      "# ratings.plot()"
     ],
     "language": "python",
     "metadata": {},
     "outputs": [
      {
       "output_type": "stream",
       "stream": "stdout",
       "text": [
        "<class 'pandas.core.frame.DataFrame'>\n"
       ]
      }
     ],
     "prompt_number": 2
    },
    {
     "cell_type": "code",
     "collapsed": false,
     "input": [
      "import pandas as pd\n",
      "df = pd.read_csv('jung/ratings.csv')\n",
      "# print(df.head())\n",
      "df['date'] = pd.to_datetime(df['date'])\n",
      "dramaid = 63553\n",
      "ratings = df[df['dramaid']==dramaid].sort(['date'])[['date','ratings']]\n",
      "ratings = ratings.set_index('date')\n",
      "ratings = ratings.groupby(lambda x:x.week)\n",
      "ratings = ratings.aggregate(np.sum)\n",
      "\n",
      "# ratings.join(summary_comment, how='outer')\n",
      "ratings = ratings.join(summary_comment)\n",
      "# ratings = ratings.join(search_result)\n",
      "# print(ratings)\n",
      "ratings2 = ratings.copy()\n",
      "ratings['Y'] = ratings['ratings'].shift(-1) - ratings['ratings']\n",
      "print(ratings)\n",
      "\n",
      "# print(ratings2.corr())\n",
      "# print(ratings.corr())\n",
      "# ratings2['ratings']\n",
      "\n",
      "# ratings.plot()"
     ],
     "language": "python",
     "metadata": {},
     "outputs": [
      {
       "output_type": "stream",
       "stream": "stdout",
       "text": [
        "    ratings  (std, score)  (mean, score)  (count, score)    Y\n",
        "6      13.2      3.248012       8.257143              35  2.4\n",
        "7      15.6      2.282902       9.214286              28 -1.2\n",
        "8      14.4      2.395785       9.161290              31  1.5\n",
        "10     15.9      1.479611       9.548387              31  0.6\n",
        "11     16.5      0.809760       9.742424              66 -0.8\n",
        "12     15.7      2.490951       9.105263              38 -0.4\n",
        "13     15.3      1.805547       9.480000              25  2.4\n",
        "14     17.7      2.156235       9.428571              56 -0.6\n",
        "15     17.1      3.092588       8.888889              27  0.8\n",
        "17     17.9      3.597221       8.240000              25 -0.3\n",
        "18     17.6      1.553417       9.518519              27  1.4\n",
        "19     19.0      1.598575       9.343750              32 -0.8\n",
        "20     18.2      2.115457       9.386364              44 -1.3\n",
        "21     16.9      2.125928       9.512821              39 -0.3\n",
        "22     16.6      0.751622       9.772727              22  1.5\n",
        "23     18.1      1.320094       9.352941              17  0.5\n",
        "24     18.6      0.832050       9.769231              13 -0.6\n",
        "25     18.0      2.725541       8.500000               8 -0.2\n",
        "26     17.8      0.701472       9.722222              36  NaN\n",
        "\n",
        "[19 rows x 5 columns]\n"
       ]
      }
     ],
     "prompt_number": 30
    },
    {
     "cell_type": "code",
     "collapsed": false,
     "input": [
      "\n",
      "\n"
     ],
     "language": "python",
     "metadata": {},
     "outputs": [],
     "prompt_number": 17
    },
    {
     "cell_type": "code",
     "collapsed": false,
     "input": [],
     "language": "python",
     "metadata": {},
     "outputs": []
    }
   ],
   "metadata": {}
  }
 ]
}